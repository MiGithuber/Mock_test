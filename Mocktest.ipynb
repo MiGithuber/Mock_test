{
 "cells": [
  {
   "cell_type": "code",
   "execution_count": 16,
   "id": "6d926fda-40ad-44fd-b42b-17ca1ec7583e",
   "metadata": {},
   "outputs": [
    {
     "name": "stdout",
     "output_type": "stream",
     "text": [
      "0\n"
     ]
    }
   ],
   "source": [
    "#2) \n",
    "def firstUniqChar(s):\n",
    "    # Create a dictionary to count the occurrences of each character\n",
    "    char_count = {}\n",
    "    for char in s:\n",
    "        if char in char_count:\n",
    "            char_count[char] += 1\n",
    "        else:\n",
    "            char_count[char] = 1\n",
    "    \n",
    "    # Iterate through the string to find the first non-repeating character\n",
    "    for i in range(len(s)):\n",
    "        if char_count[s[i]] == 1:\n",
    "            return i\n",
    "    \n",
    "    # If no non-repeating character found, return -1\n",
    "    return -1\n",
    "\n",
    "# Test the function\n",
    "s = \"leetcode\"\n",
    "print(firstUniqChar(s))"
   ]
  },
  {
   "cell_type": "code",
   "execution_count": null,
   "id": "77742dff-b53a-41bc-98e6-b3ba302d6c28",
   "metadata": {},
   "outputs": [],
   "source": []
  }
 ],
 "metadata": {
  "kernelspec": {
   "display_name": "Python 3 (ipykernel)",
   "language": "python",
   "name": "python3"
  },
  "language_info": {
   "codemirror_mode": {
    "name": "ipython",
    "version": 3
   },
   "file_extension": ".py",
   "mimetype": "text/x-python",
   "name": "python",
   "nbconvert_exporter": "python",
   "pygments_lexer": "ipython3",
   "version": "3.10.8"
  }
 },
 "nbformat": 4,
 "nbformat_minor": 5
}
